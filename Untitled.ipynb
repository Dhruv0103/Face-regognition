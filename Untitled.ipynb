{
 "cells": [
  {
   "cell_type": "code",
   "execution_count": 2,
   "metadata": {},
   "outputs": [],
   "source": [
    "import numpy as np\n",
    "import cv2\n",
    "import face_recognition\n",
    "import os"
   ]
  },
  {
   "cell_type": "code",
   "execution_count": 3,
   "metadata": {},
   "outputs": [],
   "source": [
    "face_cascade = cv2.CascadeClassifier('data/haarcascade_frontalface_alt2.xml')\n",
    "eye_cascade = cv2.CascadeClassifier('data/haarcascade_eye.xml')\n",
    "smile_cascade = cv2.CascadeClassifier('data/haarcascade_smile.xml')\n"
   ]
  },
  {
   "cell_type": "code",
   "execution_count": 36,
   "metadata": {},
   "outputs": [
    {
     "name": "stdout",
     "output_type": "stream",
     "text": [
      "Enter the name to enter in database : Trail\n",
      "Successfully created the directory C:\\Users\\dhruv\\Desktop\\AI\\Untitled Folder\\train\\Trail \n",
      "Collecting Samples Complete\n"
     ]
    }
   ],
   "source": [
    "cap = cv2.VideoCapture(0)\n",
    "count = 0\n",
    "path = os.getcwd()\n",
    "name = input(\"Enter the name to enter in database : \")\n",
    "path = path + \"\\\\train\\\\\" + name\n",
    "\n",
    "try:\n",
    "    os.mkdir(path)\n",
    "except OSError:\n",
    "    print (\"Creation of the directory %s failed\" % path)\n",
    "else:\n",
    "    print (\"Successfully created the directory %s \" % path)\n",
    "\n",
    "while(True):\n",
    "    ret, frame = cap.read()\n",
    "    gray = cv2.cvtColor(frame, cv2.COLOR_BGR2RGB)\n",
    "    faces = face_cascade.detectMultiScale(gray, scaleFactor=1.5, minNeighbors=5)\n",
    "    if faces is ():\n",
    "        pass\n",
    "    else:\n",
    "        count+=1;\n",
    "        file_name_path = path + \"//\" + str(count) + '.jpg'\n",
    "        cv2.imwrite(file_name_path, frame)\n",
    "        \n",
    "        for (x, y, w, h) in faces:\n",
    "            color = (255, 0, 0) #BGR 0-255 \n",
    "            stroke = 2\n",
    "            end_cord_x = x + w\n",
    "            end_cord_y = y + h\n",
    "            cv2.rectangle(frame, (x, y), (end_cord_x, end_cord_y), color, stroke)\n",
    "        \n",
    "        cv2.putText(frame, str(count), (50, 50), cv2.FONT_HERSHEY_COMPLEX, 1, (0,255,0), 2)\n",
    "        cv2.imshow('Face Cropper', frame)\n",
    "\n",
    "    if cv2.waitKey(1) == 13 or count == 100: #13 is the Enter Key\n",
    "        break\n",
    "        \n",
    "cap.release()\n",
    "cv2.destroyAllWindows()      \n",
    "print(\"Collecting Samples Complete\")"
   ]
  },
  {
   "cell_type": "code",
   "execution_count": 11,
   "metadata": {},
   "outputs": [],
   "source": [
    "known_encodings = []\n",
    "known_names = []"
   ]
  },
  {
   "cell_type": "code",
   "execution_count": 12,
   "metadata": {},
   "outputs": [],
   "source": [
    "def process_and_encode(images):\n",
    "    print(\"[LOG] Encoding dataset ...\")\n",
    "\n",
    "    for root, dirs, files in os.walk(images):\n",
    "        for file in files:\n",
    "            if file.endswith(\"png\") or file.endswith(\"jpg\"):\n",
    "                # Load image\n",
    "                image_path = os.path.join(root, file)\n",
    "                image = cv2.imread(image_path)\n",
    "                # Convert it from BGR to RGB\n",
    "                image = cv2.cvtColor(image, cv2.COLOR_BGR2RGB)\n",
    "\n",
    "                # detect face in the image and get its location (square boxes coordinates)\n",
    "                boxes = face_recognition.face_locations(image, model='hog')\n",
    "\n",
    "                # Encode the face into a 128-d embeddings vector\n",
    "                encoding = face_recognition.face_encodings(image, boxes)\n",
    "\n",
    "                # the person's name is the name of the folder where the image comes from\n",
    "                name = image_path.split(os.path.sep)[-2]\n",
    "\n",
    "                if len(encoding) > 0 : \n",
    "                    known_encodings.append(encoding[0])\n",
    "                    known_names.append(name)\n",
    "\n",
    "    return {\"encodings\": known_encodings, \"names\": known_names}"
   ]
  },
  {
   "cell_type": "code",
   "execution_count": 14,
   "metadata": {},
   "outputs": [
    {
     "name": "stdout",
     "output_type": "stream",
     "text": [
      "[LOG] Encoding dataset ...\n"
     ]
    }
   ],
   "source": [
    "data = process_and_encode(path)"
   ]
  },
  {
   "cell_type": "code",
   "execution_count": 42,
   "metadata": {},
   "outputs": [],
   "source": [
    "cap = cv2.VideoCapture(0)\n",
    "count = 0\n",
    "\n",
    "while(True):\n",
    "    ret, frame = cap.read()\n",
    "    gray = cv2.cvtColor(frame, cv2.COLOR_BGR2RGB)\n",
    "\n",
    "    # Detect faces\n",
    "    faces = face_cascade.detectMultiScale(frame,scaleFactor=1.2,minNeighbors=5)\n",
    "\n",
    "    # for each detected face\n",
    "    for (x,y,w,h) in faces:\n",
    "                # Encode the face into a 128-d embeddings vector\n",
    "        encoding = face_recognition.face_encodings(frame, [(y, x+w, y+h, x)])[0]\n",
    "\n",
    "                # Compare the vector with all known faces encodings\n",
    "        matches = face_recognition.compare_faces(data[\"encodings\"], encoding)\n",
    "\n",
    "                # For now we don't know the person name\n",
    "        name = \"Unknown\"\n",
    "\n",
    "                # If there is at least one match:\n",
    "        if True in matches:\n",
    "            matchedIdxs = [i for (i, b) in enumerate(matches) if b]\n",
    "            counts = {}\n",
    "            for i in matchedIdxs:\n",
    "                name = data[\"names\"][i]\n",
    "                counts[name] = counts.get(name, 0) + 1\n",
    "\n",
    "            # The known encoding with the most number of matches corresponds to the detected face name\n",
    "            name = max(counts, key=counts.get)\n",
    "\n",
    "        face = frame[y:y+h,x:x+w]\n",
    "        gray_face = gray[y:y+h,x:x+w]\n",
    "\n",
    "        cv2.rectangle(frame, (x, y), (x+w, y+h), (0, 255, 0), 2)\n",
    "        # Display name\n",
    "        y = y - 15 if y - 15 > 15 else y + 15\n",
    "        cv2.putText(frame, name, (x, y), cv2.FONT_HERSHEY_SIMPLEX,0.75, (0, 255, 0), 2)\n",
    "                \n",
    "    cv2.imshow('FaceDetection', frame)\n",
    "                \n",
    "    if cv2.waitKey(1) == 13 or 0xFF == ord('q'):\n",
    "            break\n",
    "            \n",
    "cap.release()\n",
    "cv2.destroyAllWindows()"
   ]
  },
  {
   "cell_type": "code",
   "execution_count": 30,
   "metadata": {},
   "outputs": [],
   "source": [
    "nap.release()"
   ]
  },
  {
   "cell_type": "code",
   "execution_count": null,
   "metadata": {},
   "outputs": [],
   "source": []
  }
 ],
 "metadata": {
  "kernelspec": {
   "display_name": "Python 3",
   "language": "python",
   "name": "python3"
  },
  "language_info": {
   "codemirror_mode": {
    "name": "ipython",
    "version": 3
   },
   "file_extension": ".py",
   "mimetype": "text/x-python",
   "name": "python",
   "nbconvert_exporter": "python",
   "pygments_lexer": "ipython3",
   "version": "3.7.4"
  }
 },
 "nbformat": 4,
 "nbformat_minor": 4
}
